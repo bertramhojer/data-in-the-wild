{
 "cells": [
  {
   "cell_type": "code",
   "execution_count": null,
   "metadata": {},
   "outputs": [],
   "source": [
    "from glob import glob\n",
    "import os\n",
    "import numpy as np\n",
    "import pandas as pd\n",
    "import random\n"
   ]
  },
  {
   "cell_type": "code",
   "execution_count": null,
   "metadata": {},
   "outputs": [],
   "source": [
    "def load_data(data_dir: str = \"data/\", verbose: bool = False) -> pd.DataFrame:\n",
    "    dfs = []\n",
    "    c = 0\n",
    "    for file in glob(data_dir + \"Reviews-*.parquet\"):\n",
    "        if verbose:\n",
    "            print(f\"Reading in:   {file}\")\n",
    "        dfs.append(pd.read_parquet(file))\n",
    "        c += 1\n",
    "\n",
    "    if verbose:\n",
    "        print(f\"Loaded {c} files\")\n",
    "\n",
    "    concat_df = pd.concat(dfs).drop_duplicates(keep=\"first\")\n",
    "    return concat_df.reset_index().iloc[:, 1:]\n",
    "\n",
    "df = load_data(verbose=False)"
   ]
  },
  {
   "attachments": {},
   "cell_type": "markdown",
   "metadata": {},
   "source": [
    "# Strafified sampling\n",
    "Stratified sampling over company and rating.\n",
    "Then exported to into a format that can work with docanno"
   ]
  },
  {
   "cell_type": "code",
   "execution_count": null,
   "metadata": {},
   "outputs": [],
   "source": [
    "random.seed(869)\n",
    "samples = df.groupby(['rating','company'], group_keys=False).apply(lambda x: x.sample(6, replace=False))\n",
    "samples[\"index\"] = samples.index\n",
    "samples[\"advice\"].fillna(\"\", inplace=True)"
   ]
  },
  {
   "cell_type": "code",
   "execution_count": null,
   "metadata": {},
   "outputs": [],
   "source": [
    "samples[\"full_text\"] = \"Title: \\n\" + samples[\"review_title\"] + \"\\n Pros: \\n\" + samples[\"pros\"] + \"\\n Cons: \\n\" + samples[\"cons\"] + \"\\n Advice: \\n\" + samples[\"advice\"]\n",
    "test = samples[[\"full_text\", \"label\", \"index\"]]\n",
    "test.to_csv(\"data/samples4.csv\", sep=\"\\t\", index=False)"
   ]
  },
  {
   "cell_type": "markdown",
   "metadata": {},
   "source": []
  }
 ],
 "metadata": {
  "kernelspec": {
   "display_name": "Python 3.10.6 64-bit",
   "language": "python",
   "name": "python3"
  },
  "language_info": {
   "codemirror_mode": {
    "name": "ipython",
    "version": 3
   },
   "file_extension": ".py",
   "mimetype": "text/x-python",
   "name": "python",
   "nbconvert_exporter": "python",
   "pygments_lexer": "ipython3",
   "version": "3.10.6 (main, Nov 14 2022, 16:10:14) [GCC 11.3.0]"
  },
  "orig_nbformat": 4,
  "vscode": {
   "interpreter": {
    "hash": "916dbcbb3f70747c44a77c7bcd40155683ae19c65e1c03b4aa3499c5328201f1"
   }
  }
 },
 "nbformat": 4,
 "nbformat_minor": 2
}
